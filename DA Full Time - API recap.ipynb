{
 "cells": [
  {
   "cell_type": "markdown",
   "id": "50b8e7db",
   "metadata": {},
   "source": [
    "# API Recap"
   ]
  },
  {
   "cell_type": "markdown",
   "id": "3b88dbb9",
   "metadata": {},
   "source": [
    "### Como funciona el intercambio de información en la Web?"
   ]
  },
  {
   "cell_type": "markdown",
   "id": "6e31cb6c",
   "metadata": {},
   "source": [
    "- HTTP / HTTPs requests\n",
    "- Response? HTML or Data"
   ]
  },
  {
   "cell_type": "markdown",
   "id": "04d63782",
   "metadata": {},
   "source": [
    "### Como interactuamos con la misma?"
   ]
  },
  {
   "cell_type": "markdown",
   "id": "44d95325",
   "metadata": {},
   "source": [
    "- Interfaz de Usuario (UI)\n",
    "- Intercambio de información (CSV, XML, JSON)"
   ]
  },
  {
   "cell_type": "markdown",
   "id": "a19fae34",
   "metadata": {},
   "source": [
    "Veamos un mismo ejemplo pero con distinta utilidad: [UI](https://github.com/sbuffose) vs [JSON](https://api.github.com/users/sbuffose)"
   ]
  },
  {
   "cell_type": "markdown",
   "id": "a41530df",
   "metadata": {},
   "source": [
    "**Pregunta abierta**: por qué?"
   ]
  },
  {
   "cell_type": "markdown",
   "id": "355bc64a",
   "metadata": {},
   "source": [
    "Veamos mayor detalle sobre CSV y JSON"
   ]
  },
  {
   "cell_type": "code",
   "execution_count": 1,
   "id": "61fd6b09",
   "metadata": {},
   "outputs": [],
   "source": [
    "import requests\n",
    "\n",
    "def github_info(username):\n",
    "    \"\"\"\n",
    "    This method takes the username and provide the API response.\n",
    "    \"\"\"\n",
    "    BASE_URL = \"https://api.github.com\"\n",
    "    endpoint = \"users\"\n",
    "    url = f\"{BASE_URL}/{endpoint}/{username}\"\n",
    "    response = requests.get(url)\n",
    "    return response.json()"
   ]
  },
  {
   "cell_type": "code",
   "execution_count": 3,
   "id": "148ab34a",
   "metadata": {},
   "outputs": [
    {
     "data": {
      "text/plain": [
       "'Sebas Buffo Sempe'"
      ]
     },
     "execution_count": 3,
     "metadata": {},
     "output_type": "execute_result"
    }
   ],
   "source": [
    "github_info(\"sbuffose\")[\"name\"]"
   ]
  },
  {
   "cell_type": "markdown",
   "id": "121927c5",
   "metadata": {},
   "source": [
    "### Cuales son las ventajas?"
   ]
  },
  {
   "cell_type": "markdown",
   "id": "e774397e",
   "metadata": {},
   "source": [
    "- Programático (no hay intervención humana)\n",
    "- Automatización (industria 4.0)\n",
    "- One Source of Truth\n",
    "- Data Estructurada\n",
    "- Abierto o Cerrado"
   ]
  },
  {
   "cell_type": "markdown",
   "id": "f4ce5d56",
   "metadata": {},
   "source": [
    "### Cuales es el desafío?"
   ]
  },
  {
   "cell_type": "markdown",
   "id": "761fff28",
   "metadata": {},
   "source": [
    "- Versionado\n",
    "- Para Devs y UI\n",
    "- Requerimiento de equipo Tech"
   ]
  },
  {
   "cell_type": "markdown",
   "id": "24017a30",
   "metadata": {},
   "source": [
    "Veamos algunos ejemplos para entender estos puntos:"
   ]
  },
  {
   "cell_type": "markdown",
   "id": "427b114a",
   "metadata": {},
   "source": [
    "- [Le Wagon Lyrics](https://lyrics.lewagon.ai/): es una API\n",
    "- [Le Wagon Recipes](https://recipes.lewagon.com/): es una Web"
   ]
  },
  {
   "cell_type": "markdown",
   "id": "d3c86164",
   "metadata": {},
   "source": [
    "Aprovechando sus ventajas (y la comparativa con la Web):"
   ]
  },
  {
   "cell_type": "markdown",
   "id": "23d5adbe",
   "metadata": {},
   "source": [
    "##### Diseñado para las personas"
   ]
  },
  {
   "cell_type": "markdown",
   "id": "02bf2a9b",
   "metadata": {},
   "source": [
    "https://recipes.lewagon.com/"
   ]
  },
  {
   "cell_type": "markdown",
   "id": "0eac8ea1",
   "metadata": {},
   "source": [
    "##### Diseñado para aplicaciones (no hay interacción humana)"
   ]
  },
  {
   "cell_type": "code",
   "execution_count": 4,
   "id": "d4c2c35b",
   "metadata": {},
   "outputs": [],
   "source": [
    "import requests\n",
    "\n",
    "def fetch_lyrics(artists, title):\n",
    "    \"\"\"\n",
    "    Get lyrics from Seeds Lyrics API. Returns empty string if song not found\n",
    "    \"\"\"\n",
    "    url = f'https://lyrics.lewagon.ai/search?artist={artists}&title={title}'\n",
    "    try:\n",
    "        response = requests.get(url)\n",
    "        return response.json()[\"lyrics\"]\n",
    "    except:\n",
    "        return ''"
   ]
  },
  {
   "cell_type": "code",
   "execution_count": 5,
   "id": "c6beef41",
   "metadata": {},
   "outputs": [
    {
     "data": {
      "text/plain": [
       "'Here come old flat-top, he come groovin\\' up slowly\\nHe got ju-ju eyeball, he one holy roller\\nHe got hair down to his knee\\nGot to be a joker, he just do what he please\\n\\nHe wear no shoeshine, he got toe-jam football\\nHe got monkey finger, he shoot Coca-Cola\\nHe say, \"I know you, you know me\"\\nOne thing I can tell you is you got to be free\\n\\nCome together, right now\\nOver me\\n\\nHe bag production, he got walrus gumboot\\nHe got Ono sideboard, he one spinal cracker\\nHe got feet down below his knee\\nHold you in his armchair, you can feel his disease\\n\\nCome together, right now\\nOver me\\n\\nRight!\\n\\nCome, come, come, come...\\n\\nHe roller-coaster, he got early warnin\\'\\nHe got muddy water, he one mojo filter\\nHe say, \"One and one and one is three\"\\nGot to be good-lookin\\' \\'cause he\\'s so hard to see\\n\\nCome together, right now\\nOver me\\n\\nUgh!\\n\\nCome together, yeah\\nCome together, yeah\\nCome together, yeah\\nCome together, yeah\\nCome together, yeah\\nCome together, yeah\\nCome together, yeah\\nAgh!\\nCome together, yeah\\nCome together, yeah\\nCome together...'"
      ]
     },
     "execution_count": 5,
     "metadata": {},
     "output_type": "execute_result"
    }
   ],
   "source": [
    "fetch_lyrics('The Beatles', 'Come Together')"
   ]
  },
  {
   "cell_type": "markdown",
   "id": "96deb0e8",
   "metadata": {},
   "source": [
    "### Ejemplos reales"
   ]
  },
  {
   "cell_type": "markdown",
   "id": "a4adfa9c",
   "metadata": {},
   "source": [
    "El desafío de un Análista de Datos y su trabajo es entender la documentación (ciertamente compleja) y encontrar nuestro caso de uso."
   ]
  },
  {
   "cell_type": "markdown",
   "id": "b4abca03",
   "metadata": {},
   "source": [
    "- [News API](https://newsapi.org/docs/get-started#search)\n",
    "- [Mapbox](https://www.mapbox.com/)"
   ]
  },
  {
   "cell_type": "markdown",
   "id": "bd50aec4",
   "metadata": {},
   "source": [
    "Veamos ejemplos aplicados de ambos, y la [necesidad de los tokens](https://api.mapbox.com/geocoding/v5/mapbox.places/Banco%20Mercantil.json)."
   ]
  },
  {
   "cell_type": "markdown",
   "id": "939c8f46",
   "metadata": {},
   "source": [
    "Useful links:"
   ]
  },
  {
   "cell_type": "markdown",
   "id": "dda26b64",
   "metadata": {},
   "source": [
    "- [NewsAPI Docs](https://newsapi.org/docs/get-started#search)\n",
    "- [Mapbox Documentation](https://docs.mapbox.com/api/search/geocoding/)\n",
    "- [Mapbox Geocoding Example](https://api.mapbox.com/geocoding/v5/mapbox.places/Banco%20Mercantil.json?access_token=pk.eyJ1Ijoic2J1ZmZvc2UiLCJhIjoiY2x0OXhxMmk0MDJuNTJqcGdxcmxpZnl3biJ9.aHvibbsm1tMQjtQP0Sq2dQ)"
   ]
  },
  {
   "cell_type": "markdown",
   "id": "6aa6d85b",
   "metadata": {},
   "source": [
    "APIs (y empresas) han sido exitosos:"
   ]
  },
  {
   "cell_type": "markdown",
   "id": "be2b8458",
   "metadata": {},
   "source": [
    "- [Twilio](https://www.twilio.com/en-us)\n",
    "- [Stripe](https://stripe.com/es-us)\n",
    "- Apple Store"
   ]
  },
  {
   "cell_type": "markdown",
   "id": "7938390d",
   "metadata": {},
   "source": [
    "Hook: se enfocan en programadores y la simplicidad del API"
   ]
  },
  {
   "cell_type": "markdown",
   "id": "06acd69c",
   "metadata": {},
   "source": [
    "Conecptos avanzados: GraphQL, Crear una API con FastApi"
   ]
  },
  {
   "cell_type": "code",
   "execution_count": null,
   "id": "765c88e4",
   "metadata": {},
   "outputs": [],
   "source": []
  }
 ],
 "metadata": {
  "kernelspec": {
   "display_name": "Python 3 (ipykernel)",
   "language": "python",
   "name": "python3"
  },
  "language_info": {
   "codemirror_mode": {
    "name": "ipython",
    "version": 3
   },
   "file_extension": ".py",
   "mimetype": "text/x-python",
   "name": "python",
   "nbconvert_exporter": "python",
   "pygments_lexer": "ipython3",
   "version": "3.10.6"
  },
  "toc": {
   "base_numbering": 1,
   "nav_menu": {},
   "number_sections": true,
   "sideBar": true,
   "skip_h1_title": false,
   "title_cell": "Table of Contents",
   "title_sidebar": "Contents",
   "toc_cell": false,
   "toc_position": {},
   "toc_section_display": true,
   "toc_window_display": false
  }
 },
 "nbformat": 4,
 "nbformat_minor": 5
}
